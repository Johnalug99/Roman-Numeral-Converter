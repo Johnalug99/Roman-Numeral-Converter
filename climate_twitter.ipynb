{
 "cells": [
  {
   "cell_type": "code",
   "execution_count": 12,
   "id": "26ae08eb",
   "metadata": {},
   "outputs": [
    {
     "data": {
      "application/vnd.microsoft.datawrangler.viewer.v0+json": {
       "columns": [
        {
         "name": "index",
         "rawType": "object",
         "type": "string"
        },
        {
         "name": "Latitude",
         "rawType": "float64",
         "type": "float"
        },
        {
         "name": "Longitude",
         "rawType": "float64",
         "type": "float"
        },
        {
         "name": "start_date",
         "rawType": "object",
         "type": "unknown"
        },
        {
         "name": "end_date",
         "rawType": "object",
         "type": "unknown"
        },
        {
         "name": "Total Deaths",
         "rawType": "float64",
         "type": "float"
        },
        {
         "name": "No Affected",
         "rawType": "float64",
         "type": "float"
        },
        {
         "name": "Reconstruction Costs ('000 US$)",
         "rawType": "float64",
         "type": "float"
        },
        {
         "name": "Total Damages ('000 US$)",
         "rawType": "float64",
         "type": "float"
        },
        {
         "name": "CPI",
         "rawType": "float64",
         "type": "float"
        }
       ],
       "conversionMethod": "pd.DataFrame",
       "ref": "fc62351b-8576-4cfb-966b-6f1938e4e7fa",
       "rows": [
        [
         "count",
         "1290.0",
         "1294.0",
         "4913",
         "4913",
         "3583.0",
         "3213.0",
         "16.0",
         "1755.0",
         "4544.0"
        ],
        [
         "mean",
         "19.32801065248062",
         "41.045956517310664",
         "2013-12-17 04:45:11.174435328",
         "2014-01-04 14:41:56.262975744",
         "203.9651130337706",
         "741117.1805166511",
         "1301853.8125",
         "1205278.176068376",
         "90.40175049197182"
        ],
        [
         "min",
         "-913.908",
         "-955.37",
         "2007-01-01 00:00:00",
         "2007-01-03 00:00:00",
         "1.0",
         "2.0",
         "1510.0",
         "2.0",
         "81.10165893"
        ],
        [
         "25%",
         "-0.011",
         "-4.675",
         "2010-05-27 00:00:00",
         "2010-06-07 00:00:00",
         "4.0",
         "2500.0",
         "60000.0",
         "22480.0",
         "85.29206059999999"
        ],
        [
         "50%",
         "17.4835",
         "48.765",
         "2013-12-23 00:00:00",
         "2013-12-28 00:00:00",
         "12.0",
         "15000.0",
         "197000.0",
         "136820.0",
         "91.12079403"
        ],
        [
         "75%",
         "34.77075",
         "103.95100000000001",
         "2017-08-03 00:00:00",
         "2017-08-11 00:00:00",
         "30.0",
         "102717.0",
         "1091437.75",
         "647500.0",
         "93.87843648"
        ],
        [
         "max",
         "995.267",
         "952.6",
         "2020-12-30 00:00:00",
         "2020-12-30 00:00:00",
         "222570.0",
         "330000000.0",
         "11500000.0",
         "210000000.0",
         "100.0"
        ],
        [
         "std",
         "88.67157017480426",
         "123.32234506311846",
         null,
         null,
         "4737.270922662818",
         "7419144.050574519",
         "2859663.817516183",
         "6787298.702617045",
         "5.7167233233637855"
        ]
       ],
       "shape": {
        "columns": 9,
        "rows": 8
       }
      },
      "text/html": [
       "<div>\n",
       "<style scoped>\n",
       "    .dataframe tbody tr th:only-of-type {\n",
       "        vertical-align: middle;\n",
       "    }\n",
       "\n",
       "    .dataframe tbody tr th {\n",
       "        vertical-align: top;\n",
       "    }\n",
       "\n",
       "    .dataframe thead th {\n",
       "        text-align: right;\n",
       "    }\n",
       "</style>\n",
       "<table border=\"1\" class=\"dataframe\">\n",
       "  <thead>\n",
       "    <tr style=\"text-align: right;\">\n",
       "      <th></th>\n",
       "      <th>Latitude</th>\n",
       "      <th>Longitude</th>\n",
       "      <th>start_date</th>\n",
       "      <th>end_date</th>\n",
       "      <th>Total Deaths</th>\n",
       "      <th>No Affected</th>\n",
       "      <th>Reconstruction Costs ('000 US$)</th>\n",
       "      <th>Total Damages ('000 US$)</th>\n",
       "      <th>CPI</th>\n",
       "    </tr>\n",
       "  </thead>\n",
       "  <tbody>\n",
       "    <tr>\n",
       "      <th>count</th>\n",
       "      <td>1290.000000</td>\n",
       "      <td>1294.000000</td>\n",
       "      <td>4913</td>\n",
       "      <td>4913</td>\n",
       "      <td>3583.000000</td>\n",
       "      <td>3.213000e+03</td>\n",
       "      <td>1.600000e+01</td>\n",
       "      <td>1.755000e+03</td>\n",
       "      <td>4544.000000</td>\n",
       "    </tr>\n",
       "    <tr>\n",
       "      <th>mean</th>\n",
       "      <td>19.328011</td>\n",
       "      <td>41.045957</td>\n",
       "      <td>2013-12-17 04:45:11.174435328</td>\n",
       "      <td>2014-01-04 14:41:56.262975744</td>\n",
       "      <td>203.965113</td>\n",
       "      <td>7.411172e+05</td>\n",
       "      <td>1.301854e+06</td>\n",
       "      <td>1.205278e+06</td>\n",
       "      <td>90.401750</td>\n",
       "    </tr>\n",
       "    <tr>\n",
       "      <th>min</th>\n",
       "      <td>-913.908000</td>\n",
       "      <td>-955.370000</td>\n",
       "      <td>2007-01-01 00:00:00</td>\n",
       "      <td>2007-01-03 00:00:00</td>\n",
       "      <td>1.000000</td>\n",
       "      <td>2.000000e+00</td>\n",
       "      <td>1.510000e+03</td>\n",
       "      <td>2.000000e+00</td>\n",
       "      <td>81.101659</td>\n",
       "    </tr>\n",
       "    <tr>\n",
       "      <th>25%</th>\n",
       "      <td>-0.011000</td>\n",
       "      <td>-4.675000</td>\n",
       "      <td>2010-05-27 00:00:00</td>\n",
       "      <td>2010-06-07 00:00:00</td>\n",
       "      <td>4.000000</td>\n",
       "      <td>2.500000e+03</td>\n",
       "      <td>6.000000e+04</td>\n",
       "      <td>2.248000e+04</td>\n",
       "      <td>85.292061</td>\n",
       "    </tr>\n",
       "    <tr>\n",
       "      <th>50%</th>\n",
       "      <td>17.483500</td>\n",
       "      <td>48.765000</td>\n",
       "      <td>2013-12-23 00:00:00</td>\n",
       "      <td>2013-12-28 00:00:00</td>\n",
       "      <td>12.000000</td>\n",
       "      <td>1.500000e+04</td>\n",
       "      <td>1.970000e+05</td>\n",
       "      <td>1.368200e+05</td>\n",
       "      <td>91.120794</td>\n",
       "    </tr>\n",
       "    <tr>\n",
       "      <th>75%</th>\n",
       "      <td>34.770750</td>\n",
       "      <td>103.951000</td>\n",
       "      <td>2017-08-03 00:00:00</td>\n",
       "      <td>2017-08-11 00:00:00</td>\n",
       "      <td>30.000000</td>\n",
       "      <td>1.027170e+05</td>\n",
       "      <td>1.091438e+06</td>\n",
       "      <td>6.475000e+05</td>\n",
       "      <td>93.878436</td>\n",
       "    </tr>\n",
       "    <tr>\n",
       "      <th>max</th>\n",
       "      <td>995.267000</td>\n",
       "      <td>952.600000</td>\n",
       "      <td>2020-12-30 00:00:00</td>\n",
       "      <td>2020-12-30 00:00:00</td>\n",
       "      <td>222570.000000</td>\n",
       "      <td>3.300000e+08</td>\n",
       "      <td>1.150000e+07</td>\n",
       "      <td>2.100000e+08</td>\n",
       "      <td>100.000000</td>\n",
       "    </tr>\n",
       "    <tr>\n",
       "      <th>std</th>\n",
       "      <td>88.671570</td>\n",
       "      <td>123.322345</td>\n",
       "      <td>NaN</td>\n",
       "      <td>NaN</td>\n",
       "      <td>4737.270923</td>\n",
       "      <td>7.419144e+06</td>\n",
       "      <td>2.859664e+06</td>\n",
       "      <td>6.787299e+06</td>\n",
       "      <td>5.716723</td>\n",
       "    </tr>\n",
       "  </tbody>\n",
       "</table>\n",
       "</div>"
      ],
      "text/plain": [
       "          Latitude    Longitude                     start_date  \\\n",
       "count  1290.000000  1294.000000                           4913   \n",
       "mean     19.328011    41.045957  2013-12-17 04:45:11.174435328   \n",
       "min    -913.908000  -955.370000            2007-01-01 00:00:00   \n",
       "25%      -0.011000    -4.675000            2010-05-27 00:00:00   \n",
       "50%      17.483500    48.765000            2013-12-23 00:00:00   \n",
       "75%      34.770750   103.951000            2017-08-03 00:00:00   \n",
       "max     995.267000   952.600000            2020-12-30 00:00:00   \n",
       "std      88.671570   123.322345                            NaN   \n",
       "\n",
       "                            end_date   Total Deaths   No Affected  \\\n",
       "count                           4913    3583.000000  3.213000e+03   \n",
       "mean   2014-01-04 14:41:56.262975744     203.965113  7.411172e+05   \n",
       "min              2007-01-03 00:00:00       1.000000  2.000000e+00   \n",
       "25%              2010-06-07 00:00:00       4.000000  2.500000e+03   \n",
       "50%              2013-12-28 00:00:00      12.000000  1.500000e+04   \n",
       "75%              2017-08-11 00:00:00      30.000000  1.027170e+05   \n",
       "max              2020-12-30 00:00:00  222570.000000  3.300000e+08   \n",
       "std                              NaN    4737.270923  7.419144e+06   \n",
       "\n",
       "       Reconstruction Costs ('000 US$)  Total Damages ('000 US$)          CPI  \n",
       "count                     1.600000e+01              1.755000e+03  4544.000000  \n",
       "mean                      1.301854e+06              1.205278e+06    90.401750  \n",
       "min                       1.510000e+03              2.000000e+00    81.101659  \n",
       "25%                       6.000000e+04              2.248000e+04    85.292061  \n",
       "50%                       1.970000e+05              1.368200e+05    91.120794  \n",
       "75%                       1.091438e+06              6.475000e+05    93.878436  \n",
       "max                       1.150000e+07              2.100000e+08   100.000000  \n",
       "std                       2.859664e+06              6.787299e+06     5.716723  "
      ]
     },
     "execution_count": 12,
     "metadata": {},
     "output_type": "execute_result"
    }
   ],
   "source": [
    "from pyspark.sql import SparkSession\n",
    "import pandas as pd\n",
    "# Create a SparkSession\n",
    "# spark = SparkSession.builder \\\n",
    "#     .appName(\"Climate Tweets Analysis\").getOrCreate()\n",
    "\n",
    "file_path = r\"C:\\Users\\user\\Downloads\\disasters.csv\"\n",
    "# file_path_2 = r\"C:\\Users\\user\\Downloads\\The Climate Change Twitter Dataset.csv\"\n",
    "disaster_df = pd.read_csv(file_path,parse_dates=['start_date','end_date'])\n",
    "# climate_df = spark.read.csv(file_path_2, header=True, inferSchema=True)\n",
    "# climate_df.show()\n",
    "disaster_df.head()\n",
    "disaster_df.describe()"
   ]
  },
  {
   "cell_type": "code",
   "execution_count": 13,
   "id": "c5b59dc4",
   "metadata": {},
   "outputs": [
    {
     "name": "stdout",
     "output_type": "stream",
     "text": [
      "<class 'pandas.core.frame.DataFrame'>\n",
      "RangeIndex: 15789411 entries, 0 to 15789410\n",
      "Data columns (total 10 columns):\n",
      " #   Column           Dtype              \n",
      "---  ------           -----              \n",
      " 0   created_at       datetime64[ns, UTC]\n",
      " 1   id               int64              \n",
      " 2   lng              float64            \n",
      " 3   lat              float64            \n",
      " 4   topic            object             \n",
      " 5   sentiment        float64            \n",
      " 6   stance           object             \n",
      " 7   gender           object             \n",
      " 8   temperature_avg  float64            \n",
      " 9   aggressiveness   object             \n",
      "dtypes: datetime64[ns, UTC](1), float64(4), int64(1), object(4)\n",
      "memory usage: 1.2+ GB\n"
     ]
    }
   ],
   "source": [
    "file_path_2 = r\"C:\\Users\\user\\Downloads\\The Climate Change Twitter Dataset.csv\"\n",
    "climate_df = pd.read_csv(file_path_2, parse_dates=['created_at'])\n",
    "climate_df.head()\n",
    "climate_df.info()"
   ]
  },
  {
   "cell_type": "code",
   "execution_count": 14,
   "id": "d1d6b48a",
   "metadata": {},
   "outputs": [
    {
     "data": {
      "text/plain": [
       "created_at                0\n",
       "id                        0\n",
       "lng                10481873\n",
       "lat                10481873\n",
       "topic                     0\n",
       "sentiment                 0\n",
       "stance                    0\n",
       "gender                    0\n",
       "temperature_avg    10481873\n",
       "aggressiveness            0\n",
       "dtype: int64"
      ]
     },
     "execution_count": 14,
     "metadata": {},
     "output_type": "execute_result"
    }
   ],
   "source": [
    "climate_df.isna().sum()"
   ]
  },
  {
   "cell_type": "code",
   "execution_count": 19,
   "id": "8db72b2b",
   "metadata": {},
   "outputs": [
    {
     "data": {
      "text/plain": [
       "np.float64(1.9915637765081928)"
      ]
     },
     "execution_count": 19,
     "metadata": {},
     "output_type": "execute_result"
    }
   ],
   "source": [
    "threshold = 0.05\n",
    "total_missing_values = climate_df.isna().sum().sum()/len(climate_df)\n",
    "# if total_missing_values < threshold:\n",
    "#     climate_df.dropna(subset=['lng, lat'], inplace=True)\n",
    "# print(climate_df.isna().sum())\n",
    "total_missing_values"
   ]
  },
  {
   "cell_type": "code",
   "execution_count": null,
   "id": "4a087f4c",
   "metadata": {},
   "outputs": [],
   "source": []
  }
 ],
 "metadata": {
  "kernelspec": {
   "display_name": "my_env",
   "language": "python",
   "name": "python3"
  },
  "language_info": {
   "codemirror_mode": {
    "name": "ipython",
    "version": 3
   },
   "file_extension": ".py",
   "mimetype": "text/x-python",
   "name": "python",
   "nbconvert_exporter": "python",
   "pygments_lexer": "ipython3",
   "version": "undefined.undefined.undefined"
  }
 },
 "nbformat": 4,
 "nbformat_minor": 5
}
