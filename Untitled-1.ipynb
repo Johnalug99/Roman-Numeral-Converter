{
 "cells": [
  {
   "cell_type": "code",
   "execution_count": 2,
   "metadata": {},
   "outputs": [],
   "source": [
    "import pandas as pd\n",
    "import numpy as np\n",
    "import seaborn as sns\n",
    "import matplotlib.pyplot as plt\n"
   ]
  },
  {
   "cell_type": "code",
   "execution_count": 11,
   "metadata": {},
   "outputs": [
    {
     "name": "stderr",
     "output_type": "stream",
     "text": [
      "C:\\Users\\user\\AppData\\Local\\Temp\\ipykernel_6560\\1101228800.py:4: UserWarning: Could not infer format, so each element will be parsed individually, falling back to `dateutil`. To ensure parsing is consistent and as-expected, please specify a format.\n",
      "  sales_df = pd.read_csv(file_path, parse_dates=['Order Date'])\n"
     ]
    },
    {
     "data": {
      "application/vnd.microsoft.datawrangler.viewer.v0+json": {
       "columns": [
        {
         "name": "index",
         "rawType": "int64",
         "type": "integer"
        },
        {
         "name": "Unnamed: 0",
         "rawType": "int64",
         "type": "integer"
        },
        {
         "name": "Order ID",
         "rawType": "int64",
         "type": "integer"
        },
        {
         "name": "Product",
         "rawType": "object",
         "type": "string"
        },
        {
         "name": "Quantity Ordered",
         "rawType": "int64",
         "type": "integer"
        },
        {
         "name": "Price Each",
         "rawType": "float64",
         "type": "float"
        },
        {
         "name": "Order Date",
         "rawType": "datetime64[ns]",
         "type": "datetime"
        },
        {
         "name": "Purchase Address",
         "rawType": "object",
         "type": "string"
        },
        {
         "name": "Month",
         "rawType": "int64",
         "type": "integer"
        },
        {
         "name": "Month.1",
         "rawType": "object",
         "type": "string"
        },
        {
         "name": "Sales",
         "rawType": "float64",
         "type": "float"
        },
        {
         "name": "City",
         "rawType": "object",
         "type": "string"
        },
        {
         "name": "Hour",
         "rawType": "int64",
         "type": "integer"
        }
       ],
       "conversionMethod": "pd.DataFrame",
       "ref": "a6111f6c-c340-45ba-bcc7-a09e6882a2e7",
       "rows": [
        [
         "0",
         "0",
         "141234",
         "iPhone",
         "1",
         "700.0",
         "2019-01-22 21:25:00",
         "944 Walnut St, Boston, MA 02215",
         "1",
         "January",
         "700.0",
         " Boston",
         "21"
        ],
        [
         "1",
         "1",
         "141235",
         "Lightning Charging Cable",
         "1",
         "14.95",
         "2019-01-28 14:15:00",
         "185 Maple St, Portland, OR 97035",
         "1",
         "January",
         "14.95",
         " Portland",
         "14"
        ],
        [
         "2",
         "2",
         "141236",
         "Wired Headphones",
         "2",
         "11.99",
         "2019-01-17 13:33:00",
         "538 Adams St, San Francisco, CA 94016",
         "1",
         "January",
         "23.98",
         " San Francisco",
         "13"
        ],
        [
         "3",
         "3",
         "141237",
         "27in FHD Monitor",
         "1",
         "149.99",
         "2019-01-05 20:33:00",
         "738 10th St, Los Angeles, CA 90001",
         "1",
         "January",
         "149.99",
         " Los Angeles",
         "20"
        ],
        [
         "4",
         "4",
         "141238",
         "Wired Headphones",
         "1",
         "11.99",
         "2019-01-25 11:59:00",
         "387 10th St, Austin, TX 73301",
         "1",
         "January",
         "11.99",
         " Austin",
         "11"
        ]
       ],
       "shape": {
        "columns": 12,
        "rows": 5
       }
      },
      "text/html": [
       "<div>\n",
       "<style scoped>\n",
       "    .dataframe tbody tr th:only-of-type {\n",
       "        vertical-align: middle;\n",
       "    }\n",
       "\n",
       "    .dataframe tbody tr th {\n",
       "        vertical-align: top;\n",
       "    }\n",
       "\n",
       "    .dataframe thead th {\n",
       "        text-align: right;\n",
       "    }\n",
       "</style>\n",
       "<table border=\"1\" class=\"dataframe\">\n",
       "  <thead>\n",
       "    <tr style=\"text-align: right;\">\n",
       "      <th></th>\n",
       "      <th>Unnamed: 0</th>\n",
       "      <th>Order ID</th>\n",
       "      <th>Product</th>\n",
       "      <th>Quantity Ordered</th>\n",
       "      <th>Price Each</th>\n",
       "      <th>Order Date</th>\n",
       "      <th>Purchase Address</th>\n",
       "      <th>Month</th>\n",
       "      <th>Month.1</th>\n",
       "      <th>Sales</th>\n",
       "      <th>City</th>\n",
       "      <th>Hour</th>\n",
       "    </tr>\n",
       "  </thead>\n",
       "  <tbody>\n",
       "    <tr>\n",
       "      <th>0</th>\n",
       "      <td>0</td>\n",
       "      <td>141234</td>\n",
       "      <td>iPhone</td>\n",
       "      <td>1</td>\n",
       "      <td>700.00</td>\n",
       "      <td>2019-01-22 21:25:00</td>\n",
       "      <td>944 Walnut St, Boston, MA 02215</td>\n",
       "      <td>1</td>\n",
       "      <td>January</td>\n",
       "      <td>700.00</td>\n",
       "      <td>Boston</td>\n",
       "      <td>21</td>\n",
       "    </tr>\n",
       "    <tr>\n",
       "      <th>1</th>\n",
       "      <td>1</td>\n",
       "      <td>141235</td>\n",
       "      <td>Lightning Charging Cable</td>\n",
       "      <td>1</td>\n",
       "      <td>14.95</td>\n",
       "      <td>2019-01-28 14:15:00</td>\n",
       "      <td>185 Maple St, Portland, OR 97035</td>\n",
       "      <td>1</td>\n",
       "      <td>January</td>\n",
       "      <td>14.95</td>\n",
       "      <td>Portland</td>\n",
       "      <td>14</td>\n",
       "    </tr>\n",
       "    <tr>\n",
       "      <th>2</th>\n",
       "      <td>2</td>\n",
       "      <td>141236</td>\n",
       "      <td>Wired Headphones</td>\n",
       "      <td>2</td>\n",
       "      <td>11.99</td>\n",
       "      <td>2019-01-17 13:33:00</td>\n",
       "      <td>538 Adams St, San Francisco, CA 94016</td>\n",
       "      <td>1</td>\n",
       "      <td>January</td>\n",
       "      <td>23.98</td>\n",
       "      <td>San Francisco</td>\n",
       "      <td>13</td>\n",
       "    </tr>\n",
       "    <tr>\n",
       "      <th>3</th>\n",
       "      <td>3</td>\n",
       "      <td>141237</td>\n",
       "      <td>27in FHD Monitor</td>\n",
       "      <td>1</td>\n",
       "      <td>149.99</td>\n",
       "      <td>2019-01-05 20:33:00</td>\n",
       "      <td>738 10th St, Los Angeles, CA 90001</td>\n",
       "      <td>1</td>\n",
       "      <td>January</td>\n",
       "      <td>149.99</td>\n",
       "      <td>Los Angeles</td>\n",
       "      <td>20</td>\n",
       "    </tr>\n",
       "    <tr>\n",
       "      <th>4</th>\n",
       "      <td>4</td>\n",
       "      <td>141238</td>\n",
       "      <td>Wired Headphones</td>\n",
       "      <td>1</td>\n",
       "      <td>11.99</td>\n",
       "      <td>2019-01-25 11:59:00</td>\n",
       "      <td>387 10th St, Austin, TX 73301</td>\n",
       "      <td>1</td>\n",
       "      <td>January</td>\n",
       "      <td>11.99</td>\n",
       "      <td>Austin</td>\n",
       "      <td>11</td>\n",
       "    </tr>\n",
       "  </tbody>\n",
       "</table>\n",
       "</div>"
      ],
      "text/plain": [
       "   Unnamed: 0  Order ID                   Product  Quantity Ordered  \\\n",
       "0           0    141234                    iPhone                 1   \n",
       "1           1    141235  Lightning Charging Cable                 1   \n",
       "2           2    141236          Wired Headphones                 2   \n",
       "3           3    141237          27in FHD Monitor                 1   \n",
       "4           4    141238          Wired Headphones                 1   \n",
       "\n",
       "   Price Each          Order Date                       Purchase Address  \\\n",
       "0      700.00 2019-01-22 21:25:00        944 Walnut St, Boston, MA 02215   \n",
       "1       14.95 2019-01-28 14:15:00       185 Maple St, Portland, OR 97035   \n",
       "2       11.99 2019-01-17 13:33:00  538 Adams St, San Francisco, CA 94016   \n",
       "3      149.99 2019-01-05 20:33:00     738 10th St, Los Angeles, CA 90001   \n",
       "4       11.99 2019-01-25 11:59:00          387 10th St, Austin, TX 73301   \n",
       "\n",
       "   Month  Month.1   Sales            City  Hour  \n",
       "0      1  January  700.00          Boston    21  \n",
       "1      1  January   14.95        Portland    14  \n",
       "2      1  January   23.98   San Francisco    13  \n",
       "3      1  January  149.99     Los Angeles    20  \n",
       "4      1  January   11.99          Austin    11  "
      ]
     },
     "execution_count": 11,
     "metadata": {},
     "output_type": "execute_result"
    }
   ],
   "source": [
    "file_path = r\"C:\\Users\\user\\Documents\\Data scrolls\\DataSet\\Task 14 Sales Data.xlsx - Sales Data.csv\"\n",
    "\n",
    "# Load the data set\n",
    "sales_df = pd.read_csv(file_path, parse_dates=['Order Date'])\n",
    "sales_df.head()\n",
    "# sales_df.info()"
   ]
  },
  {
   "cell_type": "code",
   "execution_count": 44,
   "metadata": {},
   "outputs": [
    {
     "name": "stderr",
     "output_type": "stream",
     "text": [
      "C:\\Users\\user\\AppData\\Local\\Temp\\ipykernel_6560\\63886059.py:4: FutureWarning: The default of observed=False is deprecated and will be changed to True in a future version of pandas. Pass observed=False to retain current behavior or observed=True to adopt the future default and silence this warning.\n",
      "  month_sales = sales_df.groupby('Month.1')['Sales'].sum().sort_values(ascending=False)\n"
     ]
    },
    {
     "data": {
      "application/vnd.microsoft.datawrangler.viewer.v0+json": {
       "columns": [
        {
         "name": "index",
         "rawType": "int64",
         "type": "integer"
        },
        {
         "name": "Month.1",
         "rawType": "category",
         "type": "unknown"
        },
        {
         "name": "Sales",
         "rawType": "float64",
         "type": "float"
        }
       ],
       "conversionMethod": "pd.DataFrame",
       "ref": "9c47a243-dfcf-4387-bef5-56910cfd251b",
       "rows": [
        [
         "0",
         "December",
         "4613443.34"
        ],
        [
         "1",
         "October",
         "3736726.88"
        ],
        [
         "2",
         "April",
         "3390670.24"
        ],
        [
         "3",
         "November",
         "3199603.2"
        ],
        [
         "4",
         "May",
         "3152606.75"
        ],
        [
         "5",
         "March",
         "2807100.38"
        ],
        [
         "6",
         "July",
         "2647775.7600000002"
        ],
        [
         "7",
         "June",
         "2577802.2600000002"
        ],
        [
         "8",
         "August",
         "2244467.88"
        ],
        [
         "9",
         "February",
         "2202022.42"
        ],
        [
         "10",
         "September",
         "2097560.13"
        ],
        [
         "11",
         "January",
         "1822256.73"
        ]
       ],
       "shape": {
        "columns": 2,
        "rows": 12
       }
      },
      "text/html": [
       "<div>\n",
       "<style scoped>\n",
       "    .dataframe tbody tr th:only-of-type {\n",
       "        vertical-align: middle;\n",
       "    }\n",
       "\n",
       "    .dataframe tbody tr th {\n",
       "        vertical-align: top;\n",
       "    }\n",
       "\n",
       "    .dataframe thead th {\n",
       "        text-align: right;\n",
       "    }\n",
       "</style>\n",
       "<table border=\"1\" class=\"dataframe\">\n",
       "  <thead>\n",
       "    <tr style=\"text-align: right;\">\n",
       "      <th></th>\n",
       "      <th>Month.1</th>\n",
       "      <th>Sales</th>\n",
       "    </tr>\n",
       "  </thead>\n",
       "  <tbody>\n",
       "    <tr>\n",
       "      <th>0</th>\n",
       "      <td>December</td>\n",
       "      <td>4613443.34</td>\n",
       "    </tr>\n",
       "    <tr>\n",
       "      <th>1</th>\n",
       "      <td>October</td>\n",
       "      <td>3736726.88</td>\n",
       "    </tr>\n",
       "    <tr>\n",
       "      <th>2</th>\n",
       "      <td>April</td>\n",
       "      <td>3390670.24</td>\n",
       "    </tr>\n",
       "    <tr>\n",
       "      <th>3</th>\n",
       "      <td>November</td>\n",
       "      <td>3199603.20</td>\n",
       "    </tr>\n",
       "    <tr>\n",
       "      <th>4</th>\n",
       "      <td>May</td>\n",
       "      <td>3152606.75</td>\n",
       "    </tr>\n",
       "    <tr>\n",
       "      <th>5</th>\n",
       "      <td>March</td>\n",
       "      <td>2807100.38</td>\n",
       "    </tr>\n",
       "    <tr>\n",
       "      <th>6</th>\n",
       "      <td>July</td>\n",
       "      <td>2647775.76</td>\n",
       "    </tr>\n",
       "    <tr>\n",
       "      <th>7</th>\n",
       "      <td>June</td>\n",
       "      <td>2577802.26</td>\n",
       "    </tr>\n",
       "    <tr>\n",
       "      <th>8</th>\n",
       "      <td>August</td>\n",
       "      <td>2244467.88</td>\n",
       "    </tr>\n",
       "    <tr>\n",
       "      <th>9</th>\n",
       "      <td>February</td>\n",
       "      <td>2202022.42</td>\n",
       "    </tr>\n",
       "    <tr>\n",
       "      <th>10</th>\n",
       "      <td>September</td>\n",
       "      <td>2097560.13</td>\n",
       "    </tr>\n",
       "    <tr>\n",
       "      <th>11</th>\n",
       "      <td>January</td>\n",
       "      <td>1822256.73</td>\n",
       "    </tr>\n",
       "  </tbody>\n",
       "</table>\n",
       "</div>"
      ],
      "text/plain": [
       "      Month.1       Sales\n",
       "0    December  4613443.34\n",
       "1     October  3736726.88\n",
       "2       April  3390670.24\n",
       "3    November  3199603.20\n",
       "4         May  3152606.75\n",
       "5       March  2807100.38\n",
       "6        July  2647775.76\n",
       "7        June  2577802.26\n",
       "8      August  2244467.88\n",
       "9    February  2202022.42\n",
       "10  September  2097560.13\n",
       "11    January  1822256.73"
      ]
     },
     "execution_count": 44,
     "metadata": {},
     "output_type": "execute_result"
    }
   ],
   "source": [
    "sales_df.drop('Month', axis=1)\n",
    "month_order = ['January', 'February', 'March', 'April','May','June','July','August','September', 'October', 'November', 'December']\n",
    "sales_df['Month.1'] = pd.Categorical(sales_df['Month.1'], categories=month_order, ordered=True)\n",
    "month_sales = sales_df.groupby('Month.1')['Sales'].sum().sort_values(ascending=False)\n",
    "month_sales.columns = ['Month', 'Total_sales']\n",
    "month_sales = month_sales.reset_index()\n",
    "\n",
    "month_sales"
   ]
  },
  {
   "cell_type": "code",
   "execution_count": 50,
   "metadata": {},
   "outputs": [
    {
     "data": {
      "text/plain": [
       "' San Francisco'"
      ]
     },
     "execution_count": 50,
     "metadata": {},
     "output_type": "execute_result"
    }
   ],
   "source": [
    "# Group by cities and calculate top sales by cities\n",
    "city_sales = sales_df.groupby('City')['Sales'].sum().sort_values(ascending=False)\n",
    "city_sales.reset_index()\n",
    "city_sales.index[0]"
   ]
  },
  {
   "cell_type": "code",
   "execution_count": null,
   "metadata": {},
   "outputs": [],
   "source": []
  }
 ],
 "metadata": {
  "kernelspec": {
   "display_name": "my_env",
   "language": "python",
   "name": "python3"
  },
  "language_info": {
   "codemirror_mode": {
    "name": "ipython",
    "version": 3
   },
   "file_extension": ".py",
   "mimetype": "text/x-python",
   "name": "python",
   "nbconvert_exporter": "python",
   "pygments_lexer": "ipython3",
   "version": "3.12.4"
  }
 },
 "nbformat": 4,
 "nbformat_minor": 2
}
